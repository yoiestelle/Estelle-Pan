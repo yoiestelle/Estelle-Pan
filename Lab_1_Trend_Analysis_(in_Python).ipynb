{
  "cells": [
    {
      "cell_type": "markdown",
      "metadata": {
        "id": "YSrQp9PDkNpJ"
      },
      "source": [
        "# Lab 1 Option 1 Trend Analysis (Python code)"
      ]
    },
    {
      "cell_type": "code",
      "execution_count": null,
      "metadata": {
        "id": "t2d9jiQjkNpN"
      },
      "outputs": [],
      "source": [
        "import pandas as pd\n",
        "import numpy as np\n",
        "import seaborn as sns\n",
        "import matplotlib.pyplot as plt\n",
        "%matplotlib inline"
      ]
    },
    {
      "cell_type": "markdown",
      "metadata": {
        "id": "gBvlBmAikNpP"
      },
      "source": [
        "## 1. Conduct a trend analysis of some variable of interest.  Graph it and try different functional forms.  Look for subgroup variation across time, too.\n"
      ]
    },
    {
      "cell_type": "markdown",
      "metadata": {
        "id": "NsuvbEfbkNpQ"
      },
      "source": [
        "I wanted to look at the trend in American’s concern over crime. Specifically,\n",
        "respondents are asked: “We are faced with many problems in this country, none of\n",
        "which can be solved easily or inexpensively. I'm going to name some of these problems,\n",
        "and for each one I'd like you to tell me whether you think we're spending too much\n",
        "money on it, too little money, or about the right amount. What about halting the rising\n",
        "crime rate? (1) Too Little, (2) About Right, or (3) Too Much? I recoded this variable to\n",
        "make it easier to interpret like such:\n"
      ]
    },
    {
      "cell_type": "code",
      "execution_count": null,
      "metadata": {
        "id": "FnR7YXVZkNpQ"
      },
      "outputs": [],
      "source": [
        "# read in data from the trends-gss.csv file\n",
        "gss = pd.read_csv(\"trends-gss.csv\")"
      ]
    },
    {
      "cell_type": "code",
      "execution_count": null,
      "metadata": {
        "id": "-Avhi9RdkNpQ"
      },
      "outputs": [],
      "source": [
        "# subset the data to only include the 'natcrime', 'year', 'sex' variables\n",
        "sub = gss[['natcrime', 'year', 'sex']]\n",
        "\n",
        "# remove missing values\n",
        "sub = sub.dropna()"
      ]
    },
    {
      "cell_type": "code",
      "execution_count": null,
      "metadata": {
        "colab": {
          "base_uri": "https://localhost:8080/"
        },
        "id": "sGKprZyFkNpR",
        "outputId": "4d7f221b-676b-4616-a60c-dfe0e72a8b29"
      },
      "outputs": [
        {
          "output_type": "execute_result",
          "data": {
            "text/plain": [
              "1.0    21500\n",
              "2.0     8374\n",
              "3.0     1907\n",
              "Name: natcrime, dtype: int64"
            ]
          },
          "metadata": {},
          "execution_count": 68
        }
      ],
      "source": [
        "# display value frequencies\n",
        "sub['natcrime'].value_counts()"
      ]
    },
    {
      "cell_type": "code",
      "execution_count": null,
      "metadata": {
        "id": "NJwUroo1kNpS"
      },
      "outputs": [],
      "source": [
        "# Reverse-code natcrime\n",
        "sub['n_natcrime'] = sub['natcrime'].replace([1, 3], [3, 1])"
      ]
    },
    {
      "cell_type": "markdown",
      "source": [
        "This now shows the following distribution of answers:"
      ],
      "metadata": {
        "id": "jjrFX6rWUnpi"
      }
    },
    {
      "cell_type": "code",
      "execution_count": null,
      "metadata": {
        "colab": {
          "base_uri": "https://localhost:8080/"
        },
        "id": "RPgxdYlZkNpS",
        "outputId": "90f3f9cd-6fa0-4fe8-ea8b-a73fdc298e98"
      },
      "outputs": [
        {
          "output_type": "execute_result",
          "data": {
            "text/plain": [
              "3.0    0.676505\n",
              "2.0    0.263491\n",
              "1.0    0.060004\n",
              "Name: n_natcrime, dtype: float64"
            ]
          },
          "metadata": {},
          "execution_count": 70
        }
      ],
      "source": [
        "# make sure reverse-code was done correctly\n",
        "sub['n_natcrime'].value_counts(normalize = True)"
      ]
    },
    {
      "cell_type": "code",
      "execution_count": null,
      "metadata": {
        "colab": {
          "base_uri": "https://localhost:8080/"
        },
        "id": "L56Pq4SEkNpS",
        "outputId": "7a8bfcaf-5d5a-4cdd-ff69-201c30b2ba0f"
      },
      "outputs": [
        {
          "output_type": "execute_result",
          "data": {
            "text/plain": [
              "3.0    21500\n",
              "2.0     8374\n",
              "1.0     1907\n",
              "Name: n_natcrime, dtype: int64"
            ]
          },
          "metadata": {},
          "execution_count": 71
        }
      ],
      "source": [
        "sub['n_natcrime'].value_counts()"
      ]
    },
    {
      "cell_type": "markdown",
      "metadata": {
        "id": "mpZspEBGkNpT"
      },
      "source": [
        "This indicates that for all of the years, about 67.7% of respondents believe that we are\n",
        "spending too little on crime prevention (Answer #3), and would like our government to\n",
        "spend more."
      ]
    },
    {
      "cell_type": "markdown",
      "source": [
        "Across time, however, the score on crime prevention (out of 3 points) has changed, as\n",
        "illustrated by this graph:"
      ],
      "metadata": {
        "id": "DQWlu0NzUvn9"
      }
    },
    {
      "cell_type": "code",
      "execution_count": null,
      "metadata": {
        "id": "EMwURVAckNpT"
      },
      "outputs": [],
      "source": [
        "# calculate mean natcrime of each year\n",
        "by_year = sub.groupby('year', as_index = False).agg({\"n_natcrime\": \"mean\"})\\\n",
        "          .rename(columns = {\"n_natcrime\": \"mean_natcrime\"})"
      ]
    },
    {
      "cell_type": "code",
      "execution_count": null,
      "metadata": {
        "colab": {
          "base_uri": "https://localhost:8080/",
          "height": 297
        },
        "id": "5auwGLP1kNpT",
        "outputId": "d691a9bd-2ec8-434e-a3e0-52804078a604"
      },
      "outputs": [
        {
          "output_type": "execute_result",
          "data": {
            "text/plain": [
              "<matplotlib.axes._subplots.AxesSubplot at 0x7f2dce00a150>"
            ]
          },
          "metadata": {},
          "execution_count": 73
        },
        {
          "output_type": "display_data",
          "data": {
            "text/plain": [
              "<Figure size 432x288 with 1 Axes>"
            ],
            "image/png": "[encoded data removed]"
          },
          "metadata": {
            "needs_background": "light"
          }
        }
      ],
      "source": [
        "# plot the trend using matplotlib \n",
        "by_year.plot(x = 'year', y = 'mean_natcrime', grid = True)\n",
        "\n",
        "# superimpose a fitted line using the seaborn package\n",
        "sns.regplot(x = 'year', y = 'mean_natcrime', data = by_year, \n",
        "            scatter = False, ci = None, fit_reg = True, color = 'm')"
      ]
    },
    {
      "cell_type": "markdown",
      "metadata": {
        "id": "qZN6p9zFkNpU"
      },
      "source": [
        "As can be seen, people expressed greater concern over time in the earlier period, from\n",
        "roughly 1973 until the mid-1990s, and they expressed less concern for crime thereafter.\n"
      ]
    },
    {
      "cell_type": "markdown",
      "source": [
        "We would like to develop a regression model that would capture the dynamics of public\n",
        "opinion on crime.  As a default, I will fit a linear model, where year is entered in as a\n",
        "linear term.  The model is below:"
      ],
      "metadata": {
        "id": "LiiPCP4dU2FP"
      }
    },
    {
      "cell_type": "code",
      "execution_count": null,
      "metadata": {
        "colab": {
          "base_uri": "https://localhost:8080/",
          "height": 486
        },
        "id": "yQ3mcEWqkNpU",
        "outputId": "0b7e1376-5080-40aa-b268-2b1f9a5053ce"
      },
      "outputs": [
        {
          "output_type": "execute_result",
          "data": {
            "text/plain": [
              "<class 'statsmodels.iolib.summary.Summary'>\n",
              "\"\"\"\n",
              "                            OLS Regression Results                            \n",
              "==============================================================================\n",
              "Dep. Variable:             n_natcrime   R-squared:                       0.004\n",
              "Model:                            OLS   Adj. R-squared:                  0.004\n",
              "Method:                 Least Squares   F-statistic:                     134.1\n",
              "Date:                Tue, 11 Oct 2022   Prob (F-statistic):           6.01e-31\n",
              "Time:                        22:40:41   Log-Likelihood:                -28636.\n",
              "No. Observations:               31781   AIC:                         5.728e+04\n",
              "Df Residuals:                   31779   BIC:                         5.729e+04\n",
              "Df Model:                           1                                         \n",
              "Covariance Type:            nonrobust                                         \n",
              "==============================================================================\n",
              "                 coef    std err          t      P>|t|      [0.025      0.975]\n",
              "------------------------------------------------------------------------------\n",
              "Intercept      9.1007      0.560     16.252      0.000       8.003      10.198\n",
              "year          -0.0033      0.000    -11.580      0.000      -0.004      -0.003\n",
              "==============================================================================\n",
              "Omnibus:                     5834.253   Durbin-Watson:                   1.950\n",
              "Prob(Omnibus):                  0.000   Jarque-Bera (JB):             9584.905\n",
              "Skew:                          -1.303   Prob(JB):                         0.00\n",
              "Kurtosis:                       3.670   Cond. No.                     3.33e+05\n",
              "==============================================================================\n",
              "\n",
              "Notes:\n",
              "[1] Standard Errors assume that the covariance matrix of the errors is correctly specified.\n",
              "[2] The condition number is large, 3.33e+05. This might indicate that there are\n",
              "strong multicollinearity or other numerical problems.\n",
              "\"\"\""
            ],
            "text/html": [
              "<table class=\"simpletable\">\n",
              "<caption>OLS Regression Results</caption>\n",
              "<tr>\n",
              "  <th>Dep. Variable:</th>       <td>n_natcrime</td>    <th>  R-squared:         </th> <td>   0.004</td> \n",
              "</tr>\n",
              "<tr>\n",
              "  <th>Model:</th>                   <td>OLS</td>       <th>  Adj. R-squared:    </th> <td>   0.004</td> \n",
              "</tr>\n",
              "<tr>\n",
              "  <th>Method:</th>             <td>Least Squares</td>  <th>  F-statistic:       </th> <td>   134.1</td> \n",
              "</tr>\n",
              "<tr>\n",
              "  <th>Date:</th>             <td>Tue, 11 Oct 2022</td> <th>  Prob (F-statistic):</th> <td>6.01e-31</td> \n",
              "</tr>\n",
              "<tr>\n",
              "  <th>Time:</th>                 <td>22:40:41</td>     <th>  Log-Likelihood:    </th> <td> -28636.</td> \n",
              "</tr>\n",
              "<tr>\n",
              "  <th>No. Observations:</th>      <td> 31781</td>      <th>  AIC:               </th> <td>5.728e+04</td>\n",
              "</tr>\n",
              "<tr>\n",
              "  <th>Df Residuals:</th>          <td> 31779</td>      <th>  BIC:               </th> <td>5.729e+04</td>\n",
              "</tr>\n",
              "<tr>\n",
              "  <th>Df Model:</th>              <td>     1</td>      <th>                     </th>     <td> </td>    \n",
              "</tr>\n",
              "<tr>\n",
              "  <th>Covariance Type:</th>      <td>nonrobust</td>    <th>                     </th>     <td> </td>    \n",
              "</tr>\n",
              "</table>\n",
              "<table class=\"simpletable\">\n",
              "<tr>\n",
              "      <td></td>         <th>coef</th>     <th>std err</th>      <th>t</th>      <th>P>|t|</th>  <th>[0.025</th>    <th>0.975]</th>  \n",
              "</tr>\n",
              "<tr>\n",
              "  <th>Intercept</th> <td>    9.1007</td> <td>    0.560</td> <td>   16.252</td> <td> 0.000</td> <td>    8.003</td> <td>   10.198</td>\n",
              "</tr>\n",
              "<tr>\n",
              "  <th>year</th>      <td>   -0.0033</td> <td>    0.000</td> <td>  -11.580</td> <td> 0.000</td> <td>   -0.004</td> <td>   -0.003</td>\n",
              "</tr>\n",
              "</table>\n",
              "<table class=\"simpletable\">\n",
              "<tr>\n",
              "  <th>Omnibus:</th>       <td>5834.253</td> <th>  Durbin-Watson:     </th> <td>   1.950</td>\n",
              "</tr>\n",
              "<tr>\n",
              "  <th>Prob(Omnibus):</th>  <td> 0.000</td>  <th>  Jarque-Bera (JB):  </th> <td>9584.905</td>\n",
              "</tr>\n",
              "<tr>\n",
              "  <th>Skew:</th>           <td>-1.303</td>  <th>  Prob(JB):          </th> <td>    0.00</td>\n",
              "</tr>\n",
              "<tr>\n",
              "  <th>Kurtosis:</th>       <td> 3.670</td>  <th>  Cond. No.          </th> <td>3.33e+05</td>\n",
              "</tr>\n",
              "</table><br/><br/>Notes:<br/>[1] Standard Errors assume that the covariance matrix of the errors is correctly specified.<br/>[2] The condition number is large, 3.33e+05. This might indicate that there are<br/>strong multicollinearity or other numerical problems."
            ]
          },
          "metadata": {},
          "execution_count": 76
        }
      ],
      "source": [
        "import statsmodels.api as sm\n",
        "import statsmodels.formula.api as smf\n",
        "\n",
        "# fit regression model\n",
        "lm_natcrime = smf.ols('n_natcrime ~ year', data = sub).fit()\n",
        "lm_natcrime.summary()"
      ]
    },
    {
      "cell_type": "markdown",
      "metadata": {
        "id": "cZCAj7nPkNpW"
      },
      "source": [
        "This model shows that with each year that passes, concern over crime drops, on\n",
        "average, by -0.003 points (on a 3 point scale); it is highly statistically significant\n",
        "(p<.001). The Adjusted R-squared from this model is 0.0042, suggesting that we can\n",
        "explain about 0.4 percent of the variation in concern for crime with our time trend, which\n",
        "seems quite low.\n"
      ]
    },
    {
      "cell_type": "markdown",
      "source": [
        "At the other extreme, perhaps we can identify individual yearly movements by including\n",
        "a comprehensive set of dummy variables for year.  That produces a table like this:"
      ],
      "metadata": {
        "id": "nUakEqdCVaqd"
      }
    },
    {
      "cell_type": "code",
      "execution_count": null,
      "metadata": {
        "colab": {
          "base_uri": "https://localhost:8080/"
        },
        "id": "7T4yP4exkNpW",
        "outputId": "05f83229-a455-4d21-c557-22f516594f6a"
      },
      "outputs": [
        {
          "output_type": "execute_result",
          "data": {
            "text/plain": [
              "<class 'statsmodels.iolib.summary.Summary'>\n",
              "\"\"\"\n",
              "                            OLS Regression Results                            \n",
              "==============================================================================\n",
              "Dep. Variable:             n_natcrime   R-squared:                       0.010\n",
              "Model:                            OLS   Adj. R-squared:                  0.009\n",
              "Method:                 Least Squares   F-statistic:                     11.63\n",
              "Date:                Tue, 11 Oct 2022   Prob (F-statistic):           2.13e-50\n",
              "Time:                        22:40:42   Log-Likelihood:                -28546.\n",
              "No. Observations:               31781   AIC:                         5.715e+04\n",
              "Df Residuals:                   31753   BIC:                         5.738e+04\n",
              "Df Model:                          27                                         \n",
              "Covariance Type:            nonrobust                                         \n",
              "===================================================================================\n",
              "                      coef    std err          t      P>|t|      [0.025      0.975]\n",
              "-----------------------------------------------------------------------------------\n",
              "Intercept           2.6384      0.016    166.395      0.000       2.607       2.670\n",
              "C(year)[T.1974]     0.0128      0.022      0.571      0.568      -0.031       0.057\n",
              "C(year)[T.1975]    -0.0006      0.022     -0.026      0.979      -0.045       0.043\n",
              "C(year)[T.1976]    -0.0291      0.022     -1.299      0.194      -0.073       0.015\n",
              "C(year)[T.1977]    -0.0011      0.022     -0.050      0.960      -0.045       0.043\n",
              "C(year)[T.1978]    -0.0295      0.022     -1.329      0.184      -0.073       0.014\n",
              "C(year)[T.1980]     0.0187      0.022      0.834      0.405      -0.025       0.063\n",
              "C(year)[T.1982]     0.0607      0.021      2.856      0.004       0.019       0.102\n",
              "C(year)[T.1983]     0.0085      0.022      0.387      0.699      -0.035       0.052\n",
              "C(year)[T.1984]     0.0140      0.032      0.442      0.658      -0.048       0.076\n",
              "C(year)[T.1985]    -0.0409      0.027     -1.502      0.133      -0.094       0.013\n",
              "C(year)[T.1986]    -0.0194      0.028     -0.703      0.482      -0.073       0.035\n",
              "C(year)[T.1987]     0.0393      0.029      1.334      0.182      -0.018       0.097\n",
              "C(year)[T.1988]     0.0361      0.028      1.299      0.194      -0.018       0.091\n",
              "C(year)[T.1989]     0.0612      0.027      2.264      0.024       0.008       0.114\n",
              "C(year)[T.1990]     0.0485      0.028      1.712      0.087      -0.007       0.104\n",
              "C(year)[T.1991]    -0.0188      0.027     -0.691      0.490      -0.072       0.035\n",
              "C(year)[T.1993]     0.0465      0.027      1.742      0.081      -0.006       0.099\n",
              "C(year)[T.1994]     0.0701      0.022      3.158      0.002       0.027       0.114\n",
              "C(year)[T.1996]    -0.0149      0.022     -0.662      0.508      -0.059       0.029\n",
              "C(year)[T.1998]    -0.0775      0.023     -3.410      0.001      -0.122      -0.033\n",
              "C(year)[T.2000]    -0.0850      0.023     -3.758      0.000      -0.129      -0.041\n",
              "C(year)[T.2002]    -0.1328      0.023     -5.828      0.000      -0.177      -0.088\n",
              "C(year)[T.2004]    -0.1053      0.023     -4.656      0.000      -0.150      -0.061\n",
              "C(year)[T.2006]    -0.0846      0.022     -3.799      0.000      -0.128      -0.041\n",
              "C(year)[T.2008]    -0.0861      0.025     -3.465      0.001      -0.135      -0.037\n",
              "C(year)[T.2010]    -0.1180      0.025     -4.771      0.000      -0.167      -0.070\n",
              "C(year)[T.2012]    -0.1124      0.025     -4.516      0.000      -0.161      -0.064\n",
              "==============================================================================\n",
              "Omnibus:                     5862.026   Durbin-Watson:                   1.961\n",
              "Prob(Omnibus):                  0.000   Jarque-Bera (JB):             9648.903\n",
              "Skew:                          -1.302   Prob(JB):                         0.00\n",
              "Kurtosis:                       3.708   Cond. No.                         26.3\n",
              "==============================================================================\n",
              "\n",
              "Notes:\n",
              "[1] Standard Errors assume that the covariance matrix of the errors is correctly specified.\n",
              "\"\"\""
            ],
            "text/html": [
              "<table class=\"simpletable\">\n",
              "<caption>OLS Regression Results</caption>\n",
              "<tr>\n",
              "  <th>Dep. Variable:</th>       <td>n_natcrime</td>    <th>  R-squared:         </th> <td>   0.010</td> \n",
              "</tr>\n",
              "<tr>\n",
              "  <th>Model:</th>                   <td>OLS</td>       <th>  Adj. R-squared:    </th> <td>   0.009</td> \n",
              "</tr>\n",
              "<tr>\n",
              "  <th>Method:</th>             <td>Least Squares</td>  <th>  F-statistic:       </th> <td>   11.63</td> \n",
              "</tr>\n",
              "<tr>\n",
              "  <th>Date:</th>             <td>Tue, 11 Oct 2022</td> <th>  Prob (F-statistic):</th> <td>2.13e-50</td> \n",
              "</tr>\n",
              "<tr>\n",
              "  <th>Time:</th>                 <td>22:40:42</td>     <th>  Log-Likelihood:    </th> <td> -28546.</td> \n",
              "</tr>\n",
              "<tr>\n",
              "  <th>No. Observations:</th>      <td> 31781</td>      <th>  AIC:               </th> <td>5.715e+04</td>\n",
              "</tr>\n",
              "<tr>\n",
              "  <th>Df Residuals:</th>          <td> 31753</td>      <th>  BIC:               </th> <td>5.738e+04</td>\n",
              "</tr>\n",
              "<tr>\n",
              "  <th>Df Model:</th>              <td>    27</td>      <th>                     </th>     <td> </td>    \n",
              "</tr>\n",
              "<tr>\n",
              "  <th>Covariance Type:</th>      <td>nonrobust</td>    <th>                     </th>     <td> </td>    \n",
              "</tr>\n",
              "</table>\n",
              "<table class=\"simpletable\">\n",
              "<tr>\n",
              "         <td></td>            <th>coef</th>     <th>std err</th>      <th>t</th>      <th>P>|t|</th>  <th>[0.025</th>    <th>0.975]</th>  \n",
              "</tr>\n",
              "<tr>\n",
              "  <th>Intercept</th>       <td>    2.6384</td> <td>    0.016</td> <td>  166.395</td> <td> 0.000</td> <td>    2.607</td> <td>    2.670</td>\n",
              "</tr>\n",
              "<tr>\n",
              "  <th>C(year)[T.1974]</th> <td>    0.0128</td> <td>    0.022</td> <td>    0.571</td> <td> 0.568</td> <td>   -0.031</td> <td>    0.057</td>\n",
              "</tr>\n",
              "<tr>\n",
              "  <th>C(year)[T.1975]</th> <td>   -0.0006</td> <td>    0.022</td> <td>   -0.026</td> <td> 0.979</td> <td>   -0.045</td> <td>    0.043</td>\n",
              "</tr>\n",
              "<tr>\n",
              "  <th>C(year)[T.1976]</th> <td>   -0.0291</td> <td>    0.022</td> <td>   -1.299</td> <td> 0.194</td> <td>   -0.073</td> <td>    0.015</td>\n",
              "</tr>\n",
              "<tr>\n",
              "  <th>C(year)[T.1977]</th> <td>   -0.0011</td> <td>    0.022</td> <td>   -0.050</td> <td> 0.960</td> <td>   -0.045</td> <td>    0.043</td>\n",
              "</tr>\n",
              "<tr>\n",
              "  <th>C(year)[T.1978]</th> <td>   -0.0295</td> <td>    0.022</td> <td>   -1.329</td> <td> 0.184</td> <td>   -0.073</td> <td>    0.014</td>\n",
              "</tr>\n",
              "<tr>\n",
              "  <th>C(year)[T.1980]</th> <td>    0.0187</td> <td>    0.022</td> <td>    0.834</td> <td> 0.405</td> <td>   -0.025</td> <td>    0.063</td>\n",
              "</tr>\n",
              "<tr>\n",
              "  <th>C(year)[T.1982]</th> <td>    0.0607</td> <td>    0.021</td> <td>    2.856</td> <td> 0.004</td> <td>    0.019</td> <td>    0.102</td>\n",
              "</tr>\n",
              "<tr>\n",
              "  <th>C(year)[T.1983]</th> <td>    0.0085</td> <td>    0.022</td> <td>    0.387</td> <td> 0.699</td> <td>   -0.035</td> <td>    0.052</td>\n",
              "</tr>\n",
              "<tr>\n",
              "  <th>C(year)[T.1984]</th> <td>    0.0140</td> <td>    0.032</td> <td>    0.442</td> <td> 0.658</td> <td>   -0.048</td> <td>    0.076</td>\n",
              "</tr>\n",
              "<tr>\n",
              "  <th>C(year)[T.1985]</th> <td>   -0.0409</td> <td>    0.027</td> <td>   -1.502</td> <td> 0.133</td> <td>   -0.094</td> <td>    0.013</td>\n",
              "</tr>\n",
              "<tr>\n",
              "  <th>C(year)[T.1986]</th> <td>   -0.0194</td> <td>    0.028</td> <td>   -0.703</td> <td> 0.482</td> <td>   -0.073</td> <td>    0.035</td>\n",
              "</tr>\n",
              "<tr>\n",
              "  <th>C(year)[T.1987]</th> <td>    0.0393</td> <td>    0.029</td> <td>    1.334</td> <td> 0.182</td> <td>   -0.018</td> <td>    0.097</td>\n",
              "</tr>\n",
              "<tr>\n",
              "  <th>C(year)[T.1988]</th> <td>    0.0361</td> <td>    0.028</td> <td>    1.299</td> <td> 0.194</td> <td>   -0.018</td> <td>    0.091</td>\n",
              "</tr>\n",
              "<tr>\n",
              "  <th>C(year)[T.1989]</th> <td>    0.0612</td> <td>    0.027</td> <td>    2.264</td> <td> 0.024</td> <td>    0.008</td> <td>    0.114</td>\n",
              "</tr>\n",
              "<tr>\n",
              "  <th>C(year)[T.1990]</th> <td>    0.0485</td> <td>    0.028</td> <td>    1.712</td> <td> 0.087</td> <td>   -0.007</td> <td>    0.104</td>\n",
              "</tr>\n",
              "<tr>\n",
              "  <th>C(year)[T.1991]</th> <td>   -0.0188</td> <td>    0.027</td> <td>   -0.691</td> <td> 0.490</td> <td>   -0.072</td> <td>    0.035</td>\n",
              "</tr>\n",
              "<tr>\n",
              "  <th>C(year)[T.1993]</th> <td>    0.0465</td> <td>    0.027</td> <td>    1.742</td> <td> 0.081</td> <td>   -0.006</td> <td>    0.099</td>\n",
              "</tr>\n",
              "<tr>\n",
              "  <th>C(year)[T.1994]</th> <td>    0.0701</td> <td>    0.022</td> <td>    3.158</td> <td> 0.002</td> <td>    0.027</td> <td>    0.114</td>\n",
              "</tr>\n",
              "<tr>\n",
              "  <th>C(year)[T.1996]</th> <td>   -0.0149</td> <td>    0.022</td> <td>   -0.662</td> <td> 0.508</td> <td>   -0.059</td> <td>    0.029</td>\n",
              "</tr>\n",
              "<tr>\n",
              "  <th>C(year)[T.1998]</th> <td>   -0.0775</td> <td>    0.023</td> <td>   -3.410</td> <td> 0.001</td> <td>   -0.122</td> <td>   -0.033</td>\n",
              "</tr>\n",
              "<tr>\n",
              "  <th>C(year)[T.2000]</th> <td>   -0.0850</td> <td>    0.023</td> <td>   -3.758</td> <td> 0.000</td> <td>   -0.129</td> <td>   -0.041</td>\n",
              "</tr>\n",
              "<tr>\n",
              "  <th>C(year)[T.2002]</th> <td>   -0.1328</td> <td>    0.023</td> <td>   -5.828</td> <td> 0.000</td> <td>   -0.177</td> <td>   -0.088</td>\n",
              "</tr>\n",
              "<tr>\n",
              "  <th>C(year)[T.2004]</th> <td>   -0.1053</td> <td>    0.023</td> <td>   -4.656</td> <td> 0.000</td> <td>   -0.150</td> <td>   -0.061</td>\n",
              "</tr>\n",
              "<tr>\n",
              "  <th>C(year)[T.2006]</th> <td>   -0.0846</td> <td>    0.022</td> <td>   -3.799</td> <td> 0.000</td> <td>   -0.128</td> <td>   -0.041</td>\n",
              "</tr>\n",
              "<tr>\n",
              "  <th>C(year)[T.2008]</th> <td>   -0.0861</td> <td>    0.025</td> <td>   -3.465</td> <td> 0.001</td> <td>   -0.135</td> <td>   -0.037</td>\n",
              "</tr>\n",
              "<tr>\n",
              "  <th>C(year)[T.2010]</th> <td>   -0.1180</td> <td>    0.025</td> <td>   -4.771</td> <td> 0.000</td> <td>   -0.167</td> <td>   -0.070</td>\n",
              "</tr>\n",
              "<tr>\n",
              "  <th>C(year)[T.2012]</th> <td>   -0.1124</td> <td>    0.025</td> <td>   -4.516</td> <td> 0.000</td> <td>   -0.161</td> <td>   -0.064</td>\n",
              "</tr>\n",
              "</table>\n",
              "<table class=\"simpletable\">\n",
              "<tr>\n",
              "  <th>Omnibus:</th>       <td>5862.026</td> <th>  Durbin-Watson:     </th> <td>   1.961</td>\n",
              "</tr>\n",
              "<tr>\n",
              "  <th>Prob(Omnibus):</th>  <td> 0.000</td>  <th>  Jarque-Bera (JB):  </th> <td>9648.903</td>\n",
              "</tr>\n",
              "<tr>\n",
              "  <th>Skew:</th>           <td>-1.302</td>  <th>  Prob(JB):          </th> <td>    0.00</td>\n",
              "</tr>\n",
              "<tr>\n",
              "  <th>Kurtosis:</th>       <td> 3.708</td>  <th>  Cond. No.          </th> <td>    26.3</td>\n",
              "</tr>\n",
              "</table><br/><br/>Notes:<br/>[1] Standard Errors assume that the covariance matrix of the errors is correctly specified."
            ]
          },
          "metadata": {},
          "execution_count": 79
        }
      ],
      "source": [
        "# refit model using 'year' as dummy variable\n",
        "lm_natcrime2 = smf.ols('n_natcrime ~ C(year)', data = sub).fit()\n",
        "lm_natcrime2.summary()"
      ]
    },
    {
      "cell_type": "markdown",
      "metadata": {
        "id": "l6er4uUhkNpX"
      },
      "source": [
        "We can see that, for example, relative to 1973, concern over crime dropped on average\n",
        "by -0.13 in 2002 (on a 3 point scale). The adjusted R-sq for this model is 0.009, which\n",
        "is more than double the model with linear trend, even adjusting for the increase in\n",
        "parameters in the model, so we do see greater fit, which makes sense since we are\n",
        "modeling the annual dynamics of the public’s opinion on this issue.\n",
        "Looking at the dummies, it appears that there is a simple level shift down from 1998\n",
        "through 2010, with no real additional trend in the later period. A formal F test for\n",
        "whether concern over crime in 1998 (B= -0.077) is different from 2010 (B=-0.118)\n",
        "indicates no change, as the p-value on that F-statistic is not statistically significantly\n",
        "different from zero (p=0.106).\n"
      ]
    },
    {
      "cell_type": "markdown",
      "metadata": {
        "id": "I4k21546kNpX"
      },
      "source": [
        "#### Linear hypothesis test "
      ]
    },
    {
      "cell_type": "code",
      "execution_count": null,
      "metadata": {
        "colab": {
          "base_uri": "https://localhost:8080/"
        },
        "id": "s7KmlIZWkNpX",
        "outputId": "f1d45a08-a4b3-40c2-8452-87074e1e22a4"
      },
      "outputs": [
        {
          "output_type": "execute_result",
          "data": {
            "text/plain": [
              "<class 'statsmodels.stats.contrast.ContrastResults'>\n",
              "<F test: F=array([[2.61914336]]), p=0.10559135759522265, df_denom=3.18e+04, df_num=1>"
            ]
          },
          "metadata": {},
          "execution_count": 80
        }
      ],
      "source": [
        "hypothesis = '(C(year)[T.1998] = C(year)[T.2010])'\n",
        "f_test = lm_natcrime2.f_test(hypothesis)\n",
        "f_test"
      ]
    },
    {
      "cell_type": "markdown",
      "metadata": {
        "id": "3hji7DaDkNpX"
      },
      "source": [
        "p-value of 0.1056 indicates no change between crime rate in 1998 vs. 2010"
      ]
    },
    {
      "cell_type": "markdown",
      "source": [
        "The above dummy variable analysis suggests that we may want to make broader\n",
        "periodizations.  We can split our time series into 2 periods: a period before 1996 and a\n",
        "period of 1996 and after.  The code for that is:"
      ],
      "metadata": {
        "id": "yzdm32b8Vv8z"
      }
    },
    {
      "cell_type": "code",
      "execution_count": null,
      "metadata": {
        "id": "8NzJOS1TkNpY"
      },
      "outputs": [],
      "source": [
        "# Create a dummy variable `late` for years after 1996 as 1 and otherwise 0susu\n",
        "sub['late'] = ((sub.year > 1996)).astype(int)"
      ]
    },
    {
      "cell_type": "code",
      "execution_count": null,
      "metadata": {
        "colab": {
          "base_uri": "https://localhost:8080/"
        },
        "id": "KBj7yGB1kNpY",
        "outputId": "31068100-a03d-4762-bdec-fdd90fd029f1"
      },
      "outputs": [
        {
          "output_type": "execute_result",
          "data": {
            "text/plain": [
              "<class 'statsmodels.iolib.summary.Summary'>\n",
              "\"\"\"\n",
              "                            OLS Regression Results                            \n",
              "==============================================================================\n",
              "Dep. Variable:             n_natcrime   R-squared:                       0.007\n",
              "Model:                            OLS   Adj. R-squared:                  0.007\n",
              "Method:                 Least Squares   F-statistic:                     237.4\n",
              "Date:                Tue, 11 Oct 2022   Prob (F-statistic):           2.29e-53\n",
              "Time:                        22:40:42   Log-Likelihood:                -28584.\n",
              "No. Observations:               31781   AIC:                         5.717e+04\n",
              "Df Residuals:                   31779   BIC:                         5.719e+04\n",
              "Df Model:                           1                                         \n",
              "Covariance Type:            nonrobust                                         \n",
              "==============================================================================\n",
              "                 coef    std err          t      P>|t|      [0.025      0.975]\n",
              "------------------------------------------------------------------------------\n",
              "Intercept      2.6506      0.004    661.883      0.000       2.643       2.658\n",
              "late          -0.1116      0.007    -15.407      0.000      -0.126      -0.097\n",
              "==============================================================================\n",
              "Omnibus:                     5857.826   Durbin-Watson:                   1.956\n",
              "Prob(Omnibus):                  0.000   Jarque-Bera (JB):             9639.516\n",
              "Skew:                          -1.304   Prob(JB):                         0.00\n",
              "Kurtosis:                       3.695   Cond. No.                         2.42\n",
              "==============================================================================\n",
              "\n",
              "Notes:\n",
              "[1] Standard Errors assume that the covariance matrix of the errors is correctly specified.\n",
              "\"\"\""
            ],
            "text/html": [
              "<table class=\"simpletable\">\n",
              "<caption>OLS Regression Results</caption>\n",
              "<tr>\n",
              "  <th>Dep. Variable:</th>       <td>n_natcrime</td>    <th>  R-squared:         </th> <td>   0.007</td> \n",
              "</tr>\n",
              "<tr>\n",
              "  <th>Model:</th>                   <td>OLS</td>       <th>  Adj. R-squared:    </th> <td>   0.007</td> \n",
              "</tr>\n",
              "<tr>\n",
              "  <th>Method:</th>             <td>Least Squares</td>  <th>  F-statistic:       </th> <td>   237.4</td> \n",
              "</tr>\n",
              "<tr>\n",
              "  <th>Date:</th>             <td>Tue, 11 Oct 2022</td> <th>  Prob (F-statistic):</th> <td>2.29e-53</td> \n",
              "</tr>\n",
              "<tr>\n",
              "  <th>Time:</th>                 <td>22:40:42</td>     <th>  Log-Likelihood:    </th> <td> -28584.</td> \n",
              "</tr>\n",
              "<tr>\n",
              "  <th>No. Observations:</th>      <td> 31781</td>      <th>  AIC:               </th> <td>5.717e+04</td>\n",
              "</tr>\n",
              "<tr>\n",
              "  <th>Df Residuals:</th>          <td> 31779</td>      <th>  BIC:               </th> <td>5.719e+04</td>\n",
              "</tr>\n",
              "<tr>\n",
              "  <th>Df Model:</th>              <td>     1</td>      <th>                     </th>     <td> </td>    \n",
              "</tr>\n",
              "<tr>\n",
              "  <th>Covariance Type:</th>      <td>nonrobust</td>    <th>                     </th>     <td> </td>    \n",
              "</tr>\n",
              "</table>\n",
              "<table class=\"simpletable\">\n",
              "<tr>\n",
              "      <td></td>         <th>coef</th>     <th>std err</th>      <th>t</th>      <th>P>|t|</th>  <th>[0.025</th>    <th>0.975]</th>  \n",
              "</tr>\n",
              "<tr>\n",
              "  <th>Intercept</th> <td>    2.6506</td> <td>    0.004</td> <td>  661.883</td> <td> 0.000</td> <td>    2.643</td> <td>    2.658</td>\n",
              "</tr>\n",
              "<tr>\n",
              "  <th>late</th>      <td>   -0.1116</td> <td>    0.007</td> <td>  -15.407</td> <td> 0.000</td> <td>   -0.126</td> <td>   -0.097</td>\n",
              "</tr>\n",
              "</table>\n",
              "<table class=\"simpletable\">\n",
              "<tr>\n",
              "  <th>Omnibus:</th>       <td>5857.826</td> <th>  Durbin-Watson:     </th> <td>   1.956</td>\n",
              "</tr>\n",
              "<tr>\n",
              "  <th>Prob(Omnibus):</th>  <td> 0.000</td>  <th>  Jarque-Bera (JB):  </th> <td>9639.516</td>\n",
              "</tr>\n",
              "<tr>\n",
              "  <th>Skew:</th>           <td>-1.304</td>  <th>  Prob(JB):          </th> <td>    0.00</td>\n",
              "</tr>\n",
              "<tr>\n",
              "  <th>Kurtosis:</th>       <td> 3.695</td>  <th>  Cond. No.          </th> <td>    2.42</td>\n",
              "</tr>\n",
              "</table><br/><br/>Notes:<br/>[1] Standard Errors assume that the covariance matrix of the errors is correctly specified."
            ]
          },
          "metadata": {},
          "execution_count": 82
        }
      ],
      "source": [
        "# Fit periodization model\n",
        "lm_natcrime_period = smf.ols('n_natcrime ~ late', data = sub).fit()\n",
        "lm_natcrime_period.summary()"
      ]
    },
    {
      "cell_type": "markdown",
      "metadata": {
        "id": "R76dDIl4kNpZ"
      },
      "source": [
        "The results from this table indicate that for 1996 and after, people’s concern over crime\n",
        "on average drops by -0.11 points (on a 3 point scale), relative to their concern before 1996.\n",
        "\n",
        " The adjusted R-sq for this 0.0074, which is quite similar to the measure attained\n",
        "with 27 year dummies, so on the basis of parsimony, this model performs quite well.\n",
        "This model also has the benefit of perhaps landing upon the “turning point” in public\n",
        "opinion on crime, tied to the 1994 Crime Bill that went into law, increasing spending and\n",
        "creating harsher sentences for prison. The public may have gotten the message that\n",
        "crime was under control and didn’t need as many additional resources after that."
      ]
    },
    {
      "cell_type": "code",
      "execution_count": null,
      "metadata": {
        "colab": {
          "base_uri": "https://localhost:8080/"
        },
        "id": "hEi5VK5kkNpZ",
        "outputId": "e4301152-cef4-4da6-8922-504fd0291030"
      },
      "outputs": [
        {
          "output_type": "execute_result",
          "data": {
            "text/plain": [
              "<matplotlib.axes._subplots.AxesSubplot at 0x7f2dc2f72710>"
            ]
          },
          "metadata": {},
          "execution_count": 83
        },
        {
          "output_type": "display_data",
          "data": {
            "text/plain": [
              "<Figure size 432x288 with 1 Axes>"
            ],
            "image/png": "[encoded data removed]"
          },
          "metadata": {
            "needs_background": "light"
          }
        }
      ],
      "source": [
        "# plot the trend using matplotlib \n",
        "by_year.plot(x = 'year', y = 'mean_natcrime', grid = True)\n",
        "\n",
        "# superimpose a quadratic fitted line using the seaborn package, specifying 'order = 2' for quadratic fit\n",
        "sns.regplot(x = 'year', y = 'mean_natcrime', data = by_year, order = 2,\n",
        "            scatter = False, ci = None, fit_reg = True, color = 'm')"
      ]
    },
    {
      "cell_type": "code",
      "execution_count": null,
      "metadata": {
        "colab": {
          "base_uri": "https://localhost:8080/"
        },
        "id": "SsdL6NaxkNpa",
        "outputId": "ef82abd8-2cec-43f7-af83-4f65a1c1ead5"
      },
      "outputs": [
        {
          "output_type": "execute_result",
          "data": {
            "text/plain": [
              "<class 'statsmodels.iolib.summary.Summary'>\n",
              "\"\"\"\n",
              "                            OLS Regression Results                            \n",
              "==============================================================================\n",
              "Dep. Variable:             n_natcrime   R-squared:                       0.006\n",
              "Model:                            OLS   Adj. R-squared:                  0.006\n",
              "Method:                 Least Squares   F-statistic:                     95.06\n",
              "Date:                Tue, 11 Oct 2022   Prob (F-statistic):           6.89e-42\n",
              "Time:                        22:40:43   Log-Likelihood:                -28608.\n",
              "No. Observations:               31781   AIC:                         5.722e+04\n",
              "Df Residuals:                   31778   BIC:                         5.725e+04\n",
              "Df Model:                           2                                         \n",
              "Covariance Type:            nonrobust                                         \n",
              "===================================================================================\n",
              "                      coef    std err          t      P>|t|      [0.025      0.975]\n",
              "-----------------------------------------------------------------------------------\n",
              "Intercept        -820.6841    111.087     -7.388      0.000   -1038.419    -602.949\n",
              "year                0.8302      0.112      7.441      0.000       0.612       1.049\n",
              "np.square(year)    -0.0002    2.8e-05     -7.470      0.000      -0.000      -0.000\n",
              "==============================================================================\n",
              "Omnibus:                     5837.624   Durbin-Watson:                   1.954\n",
              "Prob(Omnibus):                  0.000   Jarque-Bera (JB):             9592.091\n",
              "Skew:                          -1.302   Prob(JB):                         0.00\n",
              "Kurtosis:                       3.680   Cond. No.                     1.32e+11\n",
              "==============================================================================\n",
              "\n",
              "Notes:\n",
              "[1] Standard Errors assume that the covariance matrix of the errors is correctly specified.\n",
              "[2] The condition number is large, 1.32e+11. This might indicate that there are\n",
              "strong multicollinearity or other numerical problems.\n",
              "\"\"\""
            ],
            "text/html": [
              "<table class=\"simpletable\">\n",
              "<caption>OLS Regression Results</caption>\n",
              "<tr>\n",
              "  <th>Dep. Variable:</th>       <td>n_natcrime</td>    <th>  R-squared:         </th> <td>   0.006</td> \n",
              "</tr>\n",
              "<tr>\n",
              "  <th>Model:</th>                   <td>OLS</td>       <th>  Adj. R-squared:    </th> <td>   0.006</td> \n",
              "</tr>\n",
              "<tr>\n",
              "  <th>Method:</th>             <td>Least Squares</td>  <th>  F-statistic:       </th> <td>   95.06</td> \n",
              "</tr>\n",
              "<tr>\n",
              "  <th>Date:</th>             <td>Tue, 11 Oct 2022</td> <th>  Prob (F-statistic):</th> <td>6.89e-42</td> \n",
              "</tr>\n",
              "<tr>\n",
              "  <th>Time:</th>                 <td>22:40:43</td>     <th>  Log-Likelihood:    </th> <td> -28608.</td> \n",
              "</tr>\n",
              "<tr>\n",
              "  <th>No. Observations:</th>      <td> 31781</td>      <th>  AIC:               </th> <td>5.722e+04</td>\n",
              "</tr>\n",
              "<tr>\n",
              "  <th>Df Residuals:</th>          <td> 31778</td>      <th>  BIC:               </th> <td>5.725e+04</td>\n",
              "</tr>\n",
              "<tr>\n",
              "  <th>Df Model:</th>              <td>     2</td>      <th>                     </th>     <td> </td>    \n",
              "</tr>\n",
              "<tr>\n",
              "  <th>Covariance Type:</th>      <td>nonrobust</td>    <th>                     </th>     <td> </td>    \n",
              "</tr>\n",
              "</table>\n",
              "<table class=\"simpletable\">\n",
              "<tr>\n",
              "         <td></td>            <th>coef</th>     <th>std err</th>      <th>t</th>      <th>P>|t|</th>  <th>[0.025</th>    <th>0.975]</th>  \n",
              "</tr>\n",
              "<tr>\n",
              "  <th>Intercept</th>       <td> -820.6841</td> <td>  111.087</td> <td>   -7.388</td> <td> 0.000</td> <td>-1038.419</td> <td> -602.949</td>\n",
              "</tr>\n",
              "<tr>\n",
              "  <th>year</th>            <td>    0.8302</td> <td>    0.112</td> <td>    7.441</td> <td> 0.000</td> <td>    0.612</td> <td>    1.049</td>\n",
              "</tr>\n",
              "<tr>\n",
              "  <th>np.square(year)</th> <td>   -0.0002</td> <td>  2.8e-05</td> <td>   -7.470</td> <td> 0.000</td> <td>   -0.000</td> <td>   -0.000</td>\n",
              "</tr>\n",
              "</table>\n",
              "<table class=\"simpletable\">\n",
              "<tr>\n",
              "  <th>Omnibus:</th>       <td>5837.624</td> <th>  Durbin-Watson:     </th> <td>   1.954</td>\n",
              "</tr>\n",
              "<tr>\n",
              "  <th>Prob(Omnibus):</th>  <td> 0.000</td>  <th>  Jarque-Bera (JB):  </th> <td>9592.091</td>\n",
              "</tr>\n",
              "<tr>\n",
              "  <th>Skew:</th>           <td>-1.302</td>  <th>  Prob(JB):          </th> <td>    0.00</td>\n",
              "</tr>\n",
              "<tr>\n",
              "  <th>Kurtosis:</th>       <td> 3.680</td>  <th>  Cond. No.          </th> <td>1.32e+11</td>\n",
              "</tr>\n",
              "</table><br/><br/>Notes:<br/>[1] Standard Errors assume that the covariance matrix of the errors is correctly specified.<br/>[2] The condition number is large, 1.32e+11. This might indicate that there are<br/>strong multicollinearity or other numerical problems."
            ]
          },
          "metadata": {},
          "execution_count": 85
        }
      ],
      "source": [
        "lm_natcrimesq = smf.ols('n_natcrime ~ year + np.square(year)', data = sub).fit()\n",
        "lm_natcrimesq.summary()"
      ]
    },
    {
      "cell_type": "markdown",
      "source": [
        "Note: individual coefficients of linear and quadratic terms cannot be interpreted directly. Their signs, however, suggest something. If the linear term if positive, it means the mean concern over crime is increasing initially, but at point starts to fall because the quadratic term is negative. \n",
        "\n",
        "If you want to know when exactly does Y starts to fall, you have to do a first order condition of the fitted linear equation with respect to year, and the local maximum is somewhere close to 1983."
      ],
      "metadata": {
        "id": "Jlc3n_Z1WU4s"
      }
    },
    {
      "cell_type": "markdown",
      "metadata": {
        "id": "ULWLGeVEkNpg"
      },
      "source": [
        "## Interaction of gender with \"late period\""
      ]
    },
    {
      "cell_type": "code",
      "execution_count": null,
      "metadata": {
        "id": "9tby_tjYkNpg"
      },
      "outputs": [],
      "source": [
        "sub['late'] = np.where(sub.year > 1996, 1, 0)"
      ]
    },
    {
      "cell_type": "code",
      "execution_count": null,
      "metadata": {
        "id": "f4B7JZXbkNpg",
        "outputId": "a33b340d-6671-4de8-8b27-86ea91c72f1a",
        "colab": {
          "base_uri": "https://localhost:8080/",
          "height": 494
        }
      },
      "outputs": [
        {
          "output_type": "execute_result",
          "data": {
            "text/plain": [
              "<class 'statsmodels.iolib.summary.Summary'>\n",
              "\"\"\"\n",
              "                            OLS Regression Results                            \n",
              "==============================================================================\n",
              "Dep. Variable:             n_natcrime   R-squared:                       0.014\n",
              "Model:                            OLS   Adj. R-squared:                  0.014\n",
              "Method:                 Least Squares   F-statistic:                     153.2\n",
              "Date:                Tue, 11 Oct 2022   Prob (F-statistic):           1.48e-98\n",
              "Time:                        22:40:46   Log-Likelihood:                -28475.\n",
              "No. Observations:               31781   AIC:                         5.696e+04\n",
              "Df Residuals:                   31777   BIC:                         5.699e+04\n",
              "Df Model:                           3                                         \n",
              "Covariance Type:            nonrobust                                         \n",
              "====================================================================================\n",
              "                       coef    std err          t      P>|t|      [0.025      0.975]\n",
              "------------------------------------------------------------------------------------\n",
              "Intercept            2.6070      0.006    438.124      0.000       2.595       2.619\n",
              "C(sex)[T.2]          0.0794      0.008      9.895      0.000       0.064       0.095\n",
              "late                -0.1417      0.011    -13.157      0.000      -0.163      -0.121\n",
              "late:C(sex)[T.2]     0.0545      0.015      3.754      0.000       0.026       0.083\n",
              "==============================================================================\n",
              "Omnibus:                     5783.866   Durbin-Watson:                   1.958\n",
              "Prob(Omnibus):                  0.000   Jarque-Bera (JB):             9462.520\n",
              "Skew:                          -1.291   Prob(JB):                         0.00\n",
              "Kurtosis:                       3.689   Cond. No.                         6.67\n",
              "==============================================================================\n",
              "\n",
              "Notes:\n",
              "[1] Standard Errors assume that the covariance matrix of the errors is correctly specified.\n",
              "\"\"\""
            ],
            "text/html": [
              "<table class=\"simpletable\">\n",
              "<caption>OLS Regression Results</caption>\n",
              "<tr>\n",
              "  <th>Dep. Variable:</th>       <td>n_natcrime</td>    <th>  R-squared:         </th> <td>   0.014</td> \n",
              "</tr>\n",
              "<tr>\n",
              "  <th>Model:</th>                   <td>OLS</td>       <th>  Adj. R-squared:    </th> <td>   0.014</td> \n",
              "</tr>\n",
              "<tr>\n",
              "  <th>Method:</th>             <td>Least Squares</td>  <th>  F-statistic:       </th> <td>   153.2</td> \n",
              "</tr>\n",
              "<tr>\n",
              "  <th>Date:</th>             <td>Tue, 11 Oct 2022</td> <th>  Prob (F-statistic):</th> <td>1.48e-98</td> \n",
              "</tr>\n",
              "<tr>\n",
              "  <th>Time:</th>                 <td>22:40:46</td>     <th>  Log-Likelihood:    </th> <td> -28475.</td> \n",
              "</tr>\n",
              "<tr>\n",
              "  <th>No. Observations:</th>      <td> 31781</td>      <th>  AIC:               </th> <td>5.696e+04</td>\n",
              "</tr>\n",
              "<tr>\n",
              "  <th>Df Residuals:</th>          <td> 31777</td>      <th>  BIC:               </th> <td>5.699e+04</td>\n",
              "</tr>\n",
              "<tr>\n",
              "  <th>Df Model:</th>              <td>     3</td>      <th>                     </th>     <td> </td>    \n",
              "</tr>\n",
              "<tr>\n",
              "  <th>Covariance Type:</th>      <td>nonrobust</td>    <th>                     </th>     <td> </td>    \n",
              "</tr>\n",
              "</table>\n",
              "<table class=\"simpletable\">\n",
              "<tr>\n",
              "          <td></td>            <th>coef</th>     <th>std err</th>      <th>t</th>      <th>P>|t|</th>  <th>[0.025</th>    <th>0.975]</th>  \n",
              "</tr>\n",
              "<tr>\n",
              "  <th>Intercept</th>        <td>    2.6070</td> <td>    0.006</td> <td>  438.124</td> <td> 0.000</td> <td>    2.595</td> <td>    2.619</td>\n",
              "</tr>\n",
              "<tr>\n",
              "  <th>C(sex)[T.2]</th>      <td>    0.0794</td> <td>    0.008</td> <td>    9.895</td> <td> 0.000</td> <td>    0.064</td> <td>    0.095</td>\n",
              "</tr>\n",
              "<tr>\n",
              "  <th>late</th>             <td>   -0.1417</td> <td>    0.011</td> <td>  -13.157</td> <td> 0.000</td> <td>   -0.163</td> <td>   -0.121</td>\n",
              "</tr>\n",
              "<tr>\n",
              "  <th>late:C(sex)[T.2]</th> <td>    0.0545</td> <td>    0.015</td> <td>    3.754</td> <td> 0.000</td> <td>    0.026</td> <td>    0.083</td>\n",
              "</tr>\n",
              "</table>\n",
              "<table class=\"simpletable\">\n",
              "<tr>\n",
              "  <th>Omnibus:</th>       <td>5783.866</td> <th>  Durbin-Watson:     </th> <td>   1.958</td>\n",
              "</tr>\n",
              "<tr>\n",
              "  <th>Prob(Omnibus):</th>  <td> 0.000</td>  <th>  Jarque-Bera (JB):  </th> <td>9462.520</td>\n",
              "</tr>\n",
              "<tr>\n",
              "  <th>Skew:</th>           <td>-1.291</td>  <th>  Prob(JB):          </th> <td>    0.00</td>\n",
              "</tr>\n",
              "<tr>\n",
              "  <th>Kurtosis:</th>       <td> 3.689</td>  <th>  Cond. No.          </th> <td>    6.67</td>\n",
              "</tr>\n",
              "</table><br/><br/>Notes:<br/>[1] Standard Errors assume that the covariance matrix of the errors is correctly specified."
            ]
          },
          "metadata": {},
          "execution_count": 96
        }
      ],
      "source": [
        "# map the indicators variables for sex back to 1 and 2\n",
        "sub['sex'].replace({'Male': 1, 'Female': 2}, inplace = True)\n",
        "\n",
        "lm_natcrime_period_int = smf.ols('n_natcrime ~ late*C(sex)', data = sub).fit()\n",
        "lm_natcrime_period_int.summary()"
      ]
    },
    {
      "cell_type": "markdown",
      "source": [
        "The results indicate that in the earlier period, women were 0.079 points more concerned\n",
        "about crime than men. Men’s concern fell by -0.141 in the later period. But women’s\n",
        "concern only fell by about half that, at -0.087(=-0.141 + 0.054) in the later period. This\n",
        "difference in the later period accounts for the growing gap in concern for crime that\n",
        "emerges after 1996. The interaction term is highly statistically significant (p<.001), so\n",
        "the interaction is appropriate here. The adjusted R-sq in this model is substantially\n",
        "higher than the previous model (of trend alone) because gender, in general, is a\n",
        "meaningful predictor of concern for crime.\n"
      ],
      "metadata": {
        "id": "W-LPUfWtOEfq"
      }
    },
    {
      "cell_type": "code",
      "source": [],
      "metadata": {
        "id": "uAmCiW-FXdkz"
      },
      "execution_count": null,
      "outputs": []
    },
    {
      "cell_type": "code",
      "source": [],
      "metadata": {
        "id": "zi1CKExDooRH"
      },
      "execution_count": null,
      "outputs": []
    }
  ],
  "metadata": {
    "kernelspec": {
      "display_name": "Python 3.9.12 ('base')",
      "language": "python",
      "name": "python3"
    },
    "language_info": {
      "codemirror_mode": {
        "name": "ipython",
        "version": 3
      },
      "file_extension": ".py",
      "mimetype": "text/x-python",
      "name": "python",
      "nbconvert_exporter": "python",
      "pygments_lexer": "ipython3",
      "version": "3.9.12"
    },
    "vscode": {
      "interpreter": {
        "hash": "585a938ec471c889bf0cce0aed741a99eaf47ca09c0fa8393793bc5bfe77ba11"
      }
    },
    "colab": {
      "provenance": []
    }
  },
  "nbformat": 4,
  "nbformat_minor": 0
}